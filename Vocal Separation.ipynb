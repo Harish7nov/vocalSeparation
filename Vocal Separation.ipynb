{
 "cells": [
  {
   "cell_type": "code",
   "execution_count": null,
   "id": "romantic-sensitivity",
   "metadata": {
    "ExecuteTime": {
     "end_time": "2021-07-05T20:05:01.950633Z",
     "start_time": "2021-07-05T20:03:31.679066Z"
    }
   },
   "outputs": [],
   "source": [
    "import numpy as np\n",
    "import matplotlib.pyplot as plt\n",
    "%matplotlib inline\n",
    "import librosa\n",
    "import IPython\n",
    "import tensorflow as tf\n",
    "import time\n",
    "tf.compat.v1.disable_eager_execution()\n",
    "import soundfile as sf\n",
    "import norbert\n",
    "import os\n",
    "loc = os.getcwd()\n",
    "# from jupyterthemes import jtplot\n",
    "# jtplot.style(theme='monokai', context='notebook', ticks=True, grid=False)\n",
    "\n",
    "os.environ[\"CUDA_DEVICE_ORDER\"] = \"PCI_BUS_ID\"\n",
    "config = tf.compat.v1.ConfigProto()\n",
    "os.environ['TF_FORCE_GPU_ALLOW_GROWTH'] = 'true'\n",
    "config.gpu_options.per_process_gpu_memory_fraction = 0.99\n",
    "sess = tf.compat.v1.Session(config=config)\n",
    "os.environ['TF_CUDNN_WORKSPACE_LIMIT_IN_MB'] = '256'"
   ]
  },
  {
   "cell_type": "code",
   "execution_count": null,
   "id": "3e732642",
   "metadata": {
    "ExecuteTime": {
     "end_time": "2021-06-09T14:43:01.594691Z",
     "start_time": "2021-06-09T14:43:01.585715Z"
    }
   },
   "outputs": [],
   "source": [
    "def calc_sdr(src, y_pred):\n",
    "    num = 1 / (len(y_pred) * np.sum(y_pred ** 2))\n",
    "    dem = 1 / (len(src) * np.sum(src ** 2))\n",
    "    \n",
    "    y = 10 * np.log10(num / dem)\n",
    "    \n",
    "    return y"
   ]
  },
  {
   "cell_type": "code",
   "execution_count": null,
   "id": "advisory-indiana",
   "metadata": {
    "ExecuteTime": {
     "end_time": "2021-06-09T16:11:57.434324Z",
     "start_time": "2021-06-09T16:11:57.416351Z"
    }
   },
   "outputs": [],
   "source": [
    "class Generator(tf.keras.utils.Sequence):\n",
    "    def __init__(self, inp_files, out_files, batch_size, steps, n_songs):\n",
    "        self.batch_size = batch_size\n",
    "        self.inp_files = inp_files\n",
    "        self.out_files = out_files\n",
    "        self.steps = steps\n",
    "        self.n_songs = n_songs\n",
    "\n",
    "        # Set the frame length\n",
    "        self.n_fft = 4096\n",
    "        # Set the hop length\n",
    "        self.hop_length = self.n_fft // 4\n",
    "        # Set the sampling Frequency\n",
    "        self.sr = 44100\n",
    "        # Define the number of time frames needed\n",
    "        self.time = 256\n",
    "        # Calculate the duration of 1 STFT frame in milliseconds\n",
    "        self.dur = self.hop_length / self.sr\n",
    "        # Calculate the duration for the audio length that\n",
    "        # needs to be cropped\n",
    "        self.seconds = np.round(self.time * self.dur, 4)\n",
    "\n",
    "        # Output STFT feature shape would be \n",
    "        # Time Steps x Frequency Bins x n_channels\n",
    "        \n",
    "    def __len__(self):\n",
    "        return self.steps\n",
    "\n",
    "    def audio_scale(self, audio, amplitude):\n",
    "        scale_factor = amplitude * np.sqrt(np.mean(audio * audio))\n",
    "        scaled_audio = audio * scale_factor\n",
    "\n",
    "        return scaled_audio\n",
    "\n",
    "    def read_data(self, x):\n",
    "        inp = []\n",
    "        out = []\n",
    "        idx = np.zeros(self.batch_size)\n",
    "        idx[self.batch_size // 2:] = 1\n",
    "        np.random.shuffle(idx)\n",
    "        amp_idx = np.arange(0.5, 1.25, 0.01)\n",
    "        amp_idx = np.random.choice(amp_idx, size=self.batch_size, replace=False)\n",
    "\n",
    "        for i in range(self.batch_size):\n",
    "            \n",
    "            # Read the input mixture audio\n",
    "            audio, _ = sf.read(self.inp_files[x[i]])\n",
    "            # convert to mono audio\n",
    "            audio = np.mean(audio, axis=1)\n",
    "            duration = len(audio) / self.sr\n",
    "            # Read the particular duration audio\n",
    "            index = np.random.choice(list(range(int(duration - self.seconds))), size=1)[0]\n",
    "            temp = audio[index * self.sr : int((index + self.seconds) * self.sr)]\n",
    "\n",
    "            if idx[i]:\n",
    "                temp = self.audio_scale(temp, amp_idx[i])\n",
    "            # Calculate the STFT features on the go\n",
    "            feat = np.abs(librosa.stft(temp, self.n_fft, self.hop_length).T)[:, :-1]\n",
    "            inp.append(feat)\n",
    "            \n",
    "            # Read the source vocal audio as the ground truth\n",
    "            audio, _ = sf.read(self.out_files[x[i]])\n",
    "            # convert to mono audio\n",
    "            audio = np.mean(audio, axis=1)\n",
    "            temp = audio[index * self.sr : int((index + self.seconds) * self.sr)]\n",
    "\n",
    "            if idx[i]:\n",
    "                temp = self.audio_scale(temp, amp_idx[i])\n",
    "            # Calculate the STFT features on the go\n",
    "            feat = np.abs(librosa.stft(temp, self.n_fft, self.hop_length).T)[:, :-1]\n",
    "            out.append(feat)\n",
    "\n",
    "        inp = np.expand_dims(np.array(inp), axis=-1)\n",
    "        out = np.expand_dims(np.array(out), axis=-1)\n",
    "        \n",
    "        return inp, out\n",
    "        \n",
    "    def __getitem__(self, idx):\n",
    "\n",
    "        idx = np.random.choice(list(range(self.n_songs)), size=self.batch_size, replace=False)\n",
    "        inp, out = self.read_data(idx)\n",
    "        \n",
    "        return inp, out"
   ]
  },
  {
   "cell_type": "code",
   "execution_count": null,
   "id": "4c103e2a",
   "metadata": {},
   "outputs": [],
   "source": [
    "def get_model():\n",
    "\n",
    "    weight_decay = 0\n",
    "    reg = tf.keras.regularizers.l2(weight_decay)\n",
    "    input_layer = tf.keras.layers.Input(shape = [512, 2048, 1])\n",
    "\n",
    "    model = Conv2D(32, (3, 3), activation='relu', padding='same'\n",
    "                    , kernel_regularizer=reg)(input_layer)\n",
    "    model = BatchNormalization()(model)\n",
    "    block1 = Conv2D(32, (3, 3), activation='relu', padding='same'\n",
    "                        , kernel_regularizer=reg)(model)\n",
    "    model = BatchNormalization()(model)\n",
    "    pool1 = MaxPooling2D((2,2), strides=(2,2))(block1)\n",
    "\n",
    "    model = Conv2D(64, (3, 3), activation='relu', padding='same'\n",
    "                    , kernel_regularizer=reg)(pool1)\n",
    "    model = BatchNormalization()(model)\n",
    "    block2 = Conv2D(64, (3, 3), activation='relu', padding='same'\n",
    "                        , kernel_regularizer=reg)(model)\n",
    "    model = BatchNormalization()(model)\n",
    "    pool2 = MaxPooling2D((2,2), strides=(2,2))(block2)\n",
    "\n",
    "    model = Conv2D(128, (3, 3), activation='relu', padding='same'\n",
    "                    , kernel_regularizer=reg)(pool2)\n",
    "    model = BatchNormalization()(model)\n",
    "    block3 = Conv2D(128, (3, 3), activation='relu', padding='same'\n",
    "                        , kernel_regularizer=reg)(model)\n",
    "    model = BatchNormalization()(model)\n",
    "    pool3 = MaxPooling2D((2,2), strides=(2,2))(block3)\n",
    "\n",
    "    model = Conv2D(256, (3, 3), activation='relu', padding='same'\n",
    "                    , kernel_regularizer=reg)(pool3)\n",
    "    model = BatchNormalization()(model)\n",
    "    block4 = Conv2D(256, (3, 3), activation='relu', padding='same'\n",
    "                        , kernel_regularizer=reg)(model)\n",
    "    model = BatchNormalization()(model)\n",
    "    pool4 = MaxPooling2D((2, 2), strides=(2,2))(block4)\n",
    "\n",
    "    model = Conv2D(512, (3, 3), activation='relu', padding='same'\n",
    "                        , kernel_regularizer=reg)(pool4)\n",
    "    model = BatchNormalization()(model)\n",
    "\n",
    "    # End of Encoder\n",
    "\n",
    "    # Start of Decoder\n",
    "\n",
    "    model = Conv2DTranspose(256, (2, 2), (2, 2), padding='same')(model)\n",
    "\n",
    "    # model = tf.pad(model, [[0, 0], [1, 0], [0, 0], [0, 0]])\n",
    "    model = Concatenate()([model, block4])\n",
    "    model = Conv2D(256, (3, 3), activation='relu', padding='same'\n",
    "                        , kernel_regularizer=reg)(model)\n",
    "    model = BatchNormalization()(model)\n",
    "\n",
    "\n",
    "    model = Conv2DTranspose(128, (2, 2), (2, 2), padding='same')(model)\n",
    "    \n",
    "    # model = tf.pad(model, [[0, 0], [1, 0], [0, 0], [0, 0]])\n",
    "    model = Concatenate()([model, block3])\n",
    "    model = Conv2D(128, (3, 3), activation='relu', padding='same'\n",
    "                        , kernel_regularizer=reg)(model)\n",
    "    model = BatchNormalization()(model)\n",
    "\n",
    "\n",
    "    model = Conv2DTranspose(64, (2, 2), (2, 2), padding='same')(model)\n",
    "    \n",
    "    # model = tf.pad(model, [[0, 0], [1, 0], [0, 0], [0, 0]])\n",
    "    model = Concatenate()([model, block2])\n",
    "            \n",
    "    model = Conv2DTranspose(32, (2, 2), (2, 2), padding='same')(model)\n",
    "\n",
    "    # model = tf.pad(model, [[0, 0], [0, 0], [1, 0], [0, 0]])\n",
    "    model = Concatenate()([model, block1])\n",
    "    model = Conv2D(32, (3, 3), activation='relu', padding='same'\n",
    "                        , kernel_regularizer=reg)(model)\n",
    "    model = BatchNormalization()(model)\n",
    "\n",
    "\n",
    "    out = Conv2D(1, (3, 3), padding='same', kernel_regularizer=reg)(model)\n",
    "    model = tf.keras.models.Model(input_layer, out)\n",
    "    \n",
    "    return model"
   ]
  },
  {
   "cell_type": "code",
   "execution_count": null,
   "id": "southern-minnesota",
   "metadata": {
    "ExecuteTime": {
     "start_time": "2021-02-22T21:03:40.827Z"
    }
   },
   "outputs": [],
   "source": [
    "learning_rate = 1e-03\n",
    "batch_size = 32\n",
    "epochs = 100\n",
    "train_steps = 500\n",
    "valid_steps = 100\n",
    "\n",
    "train_inp_path = r\"D:\\Voice Datasets\\DSD100\\Mixtures\\Dev\"\n",
    "train_out_path = r\"D:\\Voice Datasets\\DSD100\\Sources\\Dev\"\n",
    "\n",
    "test_inp_path = r\"D:\\Voice Datasets\\DSD100\\Mixtures\\Test\"\n",
    "test_out_path = r\"D:\\Voice Datasets\\DSD100\\Sources\\Test\"\n",
    "\n",
    "train_inp_filenames = []\n",
    "train_out_filenames = []\n",
    "\n",
    "test_inp_filenames = []\n",
    "test_out_filenames = []\n",
    "\n",
    "for i, j in zip(sorted(os.listdir(train_inp_path)), sorted(os.listdir(train_out_path))):\n",
    "    path = os.path.join(train_inp_path, i)\n",
    "    train_inp_filenames.append(os.path.join(path, \"mixture.wav\"))\n",
    "\n",
    "    path = os.path.join(train_out_path, j)\n",
    "    train_out_filenames.append(os.path.join(path, \"vocals.wav\"))\n",
    "\n",
    "\n",
    "for i, j in zip(sorted(os.listdir(test_inp_path)), sorted(os.listdir(test_out_path))):\n",
    "    path = os.path.join(test_inp_path, i)\n",
    "    test_inp_filenames.append(os.path.join(path, \"mixture.wav\"))\n",
    "\n",
    "    path = os.path.join(test_out_path, j)\n",
    "    test_out_filenames.append(os.path.join(path, \"vocals.wav\"))\n",
    "\n",
    "\n",
    "train_gen = Generator(train_inp_filenames, train_out_filenames, batch_size, train_steps)\n",
    "valid_gen = Generator(test_inp_filenames, test_out_filenames, batch_size, valid_steps)\n",
    "\n",
    "\n",
    "opt = tf.keras.optimizers.Adam(lr=learning_rate)\n",
    "# opt = tf.keras.optimizers.RMSprop(learning_rate=learning_rate)\n",
    "\n",
    "model = get_model()\n",
    "print(model.summary())\n",
    "model.compile(opt, loss=\"mean_squared_error\")\n",
    "\n",
    "# Define the keras call back for model checkpoint\n",
    "model_checkpoint1 = tf.keras.callbacks.ModelCheckpoint(r\"D:\\NLP Weights\\Text Summarization\\summarization_valid.h5\", monitor='val_loss', save_best_only=True,\n",
    "                        mode='min')\n",
    "\n",
    "model_checkpoint2 = tf.keras.callbacks.ModelCheckpoint(r\"D:\\NLP Weights\\Text Summarization\\summarization_train.h5\", monitor='loss', save_best_only=True,\n",
    "                        mode='min')\n",
    "\n",
    "log_dir = f'logs\\Vocal Separation - {time.strftime(\"%H-%M-%S\", time.localtime())}'\n",
    "tensorboard = tf.compat.v1.keras.callbacks.TensorBoard(log_dir=log_dir, write_grads=True)\n",
    "\n",
    "history = model.fit(train_gen, \n",
    "                    epochs=epochs,\n",
    "                    validation_data=valid_gen,\n",
    "                    steps_per_epoch = 100,\n",
    "                    callbacks=[model_checkpoint1, model_checkpoint2, tensorboard]\n",
    "                   )\n",
    "\n",
    "hist_df = pd.DataFrame(history.history)\n",
    "hist_csv_file = os.path.join(loc, r'history.csv')"
   ]
  },
  {
   "cell_type": "code",
   "execution_count": null,
   "id": "appreciated-niger",
   "metadata": {
    "ExecuteTime": {
     "end_time": "2021-07-05T20:17:32.275540Z",
     "start_time": "2021-07-05T20:17:30.762543Z"
    }
   },
   "outputs": [],
   "source": [
    "# model = tf.keras.models.load_model(\"valid_model.h5\")\n",
    "# path = r\"D:\\Music\\Aaromale.mp3\"\n",
    "# path = r\"D:\\Music\\Aa Jao Na.mp3\"\n",
    "# path = r\"D:\\Music\\Re Bawree.mp3\"\n",
    "# path = r\"D:\\Music\\Lut Gaye.mp3\"\n",
    "path = r\"D:\\Music\\Yaar Azhaippadhu.mp3\"\n",
    "# path = r\"D:\\Music\\Yaaraiyum Ivlo Azhaga.mp3\"\n",
    "audio, sr = librosa.load(path, sr=44100)\n",
    "# audio = np.mean(audio, axis=-1)\n",
    "IPython.display.Audio(audio, rate=sr)"
   ]
  },
  {
   "cell_type": "code",
   "execution_count": null,
   "id": "centered-integer",
   "metadata": {
    "ExecuteTime": {
     "end_time": "2021-07-05T20:19:09.337438Z",
     "start_time": "2021-07-05T20:17:32.277533Z"
    }
   },
   "outputs": [],
   "source": [
    "# Set the frame length\n",
    "n_fft = 4096\n",
    "# Set the hop length\n",
    "hop_length = n_fft // 4\n",
    "# Set the sampling Frequency\n",
    "sr = 44100\n",
    "# Define the number of time frames needed\n",
    "time = 256\n",
    "# Calculate the duration of 1 STFT frame in milliseconds\n",
    "dur = hop_length / sr\n",
    "# Calculate the duration for the audio length that\n",
    "# needs to be cropped\n",
    "seconds = np.round(time * dur, 4)\n",
    "final_out = []\n",
    "start = 0\n",
    "end = int(sr * seconds)\n",
    "while True:\n",
    "    inp = np.abs(librosa.stft(audio[start : end], n_fft, hop_length).T)[:, :-1]\n",
    "    y_pred = model.predict(np.expand_dims(inp, axis=[0, -1]))[0, :, :, 0]\n",
    "    final_out.append(librosa.griffinlim(y_pred.T))\n",
    "    start = end\n",
    "    end += int(sr * seconds)\n",
    "    \n",
    "    if end >= len(audio):\n",
    "        final_out = np.array(final_out)\n",
    "        final_out = np.reshape(final_out, newshape=np.prod(final_out.shape))\n",
    "        break"
   ]
  },
  {
   "cell_type": "code",
   "execution_count": null,
   "id": "124f7097",
   "metadata": {
    "ExecuteTime": {
     "end_time": "2021-07-05T20:19:09.890791Z",
     "start_time": "2021-07-05T20:19:09.339258Z"
    }
   },
   "outputs": [],
   "source": [
    "IPython.display.Audio(final_out, rate=sr)"
   ]
  },
  {
   "cell_type": "code",
   "execution_count": null,
   "id": "43320d0e",
   "metadata": {
    "ExecuteTime": {
     "end_time": "2021-07-05T20:20:54.125515Z",
     "start_time": "2021-07-05T20:20:50.407906Z"
    }
   },
   "outputs": [],
   "source": [
    "x = np.expand_dims(librosa.stft(audio[:len(final_out)]), axis=-1)\n",
    "v = np.expand_dims(np.abs(librosa.stft(final_out)), axis=(2, 3))\n",
    "y = norbert.wiener(v, x)\n",
    "# y = norbert.softmask(v, x, logit=0.4)\n",
    "estimate = librosa.istft(y[:, :, 0, 0])"
   ]
  },
  {
   "cell_type": "code",
   "execution_count": null,
   "id": "8a946bf8",
   "metadata": {
    "ExecuteTime": {
     "end_time": "2021-07-05T20:20:54.732017Z",
     "start_time": "2021-07-05T20:20:54.126513Z"
    }
   },
   "outputs": [],
   "source": [
    "IPython.display.Audio(estimate, rate=sr)"
   ]
  },
  {
   "cell_type": "code",
   "execution_count": null,
   "id": "sustainable-technician",
   "metadata": {
    "ExecuteTime": {
     "end_time": "2021-06-09T16:12:01.378719Z",
     "start_time": "2021-06-09T16:12:01.368746Z"
    }
   },
   "outputs": [],
   "source": [
    "learning_rate = 1e-04\n",
    "batch_size = 2\n",
    "epochs = 500\n",
    "train_steps = 500\n",
    "valid_steps = 100\n",
    "train_path = os.path.join(loc, r\"MUSDB 18\\train\")\n",
    "test_path = os.path.join(loc, r\"MUSDB 18\\test\")\n",
    "train_songs = 100\n",
    "valid_songs = 50\n",
    "\n",
    "# train_path = r\"D:\\Downloads\\MUSDB 18\\train\"\n",
    "# test_path = r\"D:\\Downloads\\MUSDB 18\\test\"\n",
    "\n",
    "train_inp_filenames = []\n",
    "train_out_filenames = []\n",
    "\n",
    "test_inp_filenames = []\n",
    "test_out_filenames = []\n",
    "\n",
    "for i in sorted(os.listdir(train_path)):\n",
    "    path = os.path.join(train_path, i)\n",
    "\n",
    "    train_inp_filenames.append(os.path.join(path, \"mixture.wav\"))\n",
    "    train_out_filenames.append(os.path.join(path, \"vocals.wav\"))\n",
    "\n",
    "\n",
    "for i in sorted(os.listdir(test_path)):\n",
    "    path = os.path.join(test_path, i)\n",
    "\n",
    "    test_inp_filenames.append(os.path.join(path, \"mixture.wav\"))\n",
    "    test_out_filenames.append(os.path.join(path, \"vocals.wav\"))\n",
    "\n",
    "\n",
    "train_gen = Generator(train_inp_filenames, train_out_filenames, batch_size, train_steps, train_songs)\n",
    "valid_gen = Generator(test_inp_filenames, test_out_filenames, batch_size, valid_steps, valid_songs)"
   ]
  },
  {
   "cell_type": "code",
   "execution_count": null,
   "id": "desirable-recognition",
   "metadata": {
    "ExecuteTime": {
     "end_time": "2021-06-09T15:05:35.849968Z",
     "start_time": "2021-06-09T15:05:34.606029Z"
    }
   },
   "outputs": [],
   "source": [
    "sr = 44100\n",
    "normalize = False\n",
    "x, y = valid_gen[0]\n",
    "for i, j in zip(x, y):\n",
    "    sdr = calc_sdr(i, j)\n",
    "    print(f\"SDR : {sdr} dB\")\n",
    "    IPython.display.display(IPython.display.Audio(i.T, rate=sr, normalize=normalize))\n",
    "    IPython.display.display(IPython.display.Audio(j.T, rate=sr, normalize=normalize))\n",
    "    print(\"\\n\")"
   ]
  },
  {
   "cell_type": "code",
   "execution_count": null,
   "id": "1646fd24",
   "metadata": {
    "ExecuteTime": {
     "end_time": "2021-06-09T16:19:11.291690Z",
     "start_time": "2021-06-09T16:19:09.783096Z"
    }
   },
   "outputs": [],
   "source": [
    "x, y = train_gen[0]"
   ]
  },
  {
   "cell_type": "code",
   "execution_count": null,
   "id": "3b9c018b",
   "metadata": {
    "ExecuteTime": {
     "end_time": "2021-06-09T16:19:28.959351Z",
     "start_time": "2021-06-09T16:19:28.505386Z"
    },
    "code_folding": []
   },
   "outputs": [],
   "source": [
    "for i in range(len(x)):\n",
    "    plt.figure(figsize=(15, 9))\n",
    "    plt.subplot(1, 2, 1)\n",
    "    plt.imshow(x[i, :, 1024:, 0])\n",
    "    \n",
    "    plt.subplot(1, 2, 2)\n",
    "    plt.imshow(y[i, :, 1024:, 0])\n",
    "    plt.show()"
   ]
  }
 ],
 "metadata": {
  "kernelspec": {
   "display_name": "Python 3",
   "language": "python",
   "name": "python3"
  },
  "language_info": {
   "codemirror_mode": {
    "name": "ipython",
    "version": 3
   },
   "file_extension": ".py",
   "mimetype": "text/x-python",
   "name": "python",
   "nbconvert_exporter": "python",
   "pygments_lexer": "ipython3",
   "version": "3.7.9"
  }
 },
 "nbformat": 4,
 "nbformat_minor": 5
}
